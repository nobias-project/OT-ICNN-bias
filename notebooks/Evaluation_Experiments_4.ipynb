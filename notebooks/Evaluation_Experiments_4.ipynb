{
 "cells": [
  {
   "cell_type": "code",
   "execution_count": 1,
   "id": "c48af80a",
   "metadata": {},
   "outputs": [],
   "source": [
    "import torch \n",
    "import math\n",
    "import numpy as np\n",
    "import pandas as pd\n",
    "import skimage \n",
    "import src\n",
    "import src.datasets\n",
    "import os\n",
    "import scipy\n",
    "import sklearn\n",
    "import seaborn as sns\n",
    "\n",
    "from src.optimal_transport_modules import icnn_modules as icnn\n",
    "from torchvision.models import resnet50, ResNet50_Weights\n",
    "from torchvision.utils import make_grid\n",
    "from torchvision import transforms\n",
    "from sklearn.manifold import TSNE\n",
    "from sklearn.cluster import KMeans\n",
    "from PIL import Image\n",
    "from IPython.display import display\n",
    "from matplotlib import pyplot as plt\n",
    "from scipy.stats import ks_2samp\n",
    "from sklearn.metrics import balanced_accuracy_score\n",
    "\n",
    "from src.evaluation import load_iccns\n",
    "from src.utils import set_random_seeds\n",
    "from hydra import initialize, compose\n",
    "from torchvision.models import resnet18, ResNet18_Weights\n",
    "from torch import nn\n",
    "from torch.nn import functional as F\n",
    "from skimage.segmentation import mark_boundaries\n",
    "from lime import lime_image\n",
    "from sklearn import svm, tree\n",
    "from aif360.sklearn.metrics import equal_opportunity_difference\n",
    "from sklearn.neural_network import MLPClassifier"
   ]
  },
  {
   "cell_type": "code",
   "execution_count": 2,
   "id": "f4363e37",
   "metadata": {},
   "outputs": [],
   "source": [
    "%matplotlib inline"
   ]
  },
  {
   "cell_type": "code",
   "execution_count": 3,
   "id": "1bd2e30e",
   "metadata": {},
   "outputs": [],
   "source": [
    "set_random_seeds(65)"
   ]
  },
  {
   "cell_type": "markdown",
   "id": "0ef3c363",
   "metadata": {},
   "source": [
    "# Evaluation of Experiments \n",
    "In this notebook we set up the evaluation of our experiments. We also implement the visualisation. "
   ]
  },
  {
   "cell_type": "markdown",
   "id": "b3a76197",
   "metadata": {},
   "source": [
    "## Experiment 4"
   ]
  },
  {
   "cell_type": "code",
   "execution_count": 4,
   "id": "085f27b2",
   "metadata": {},
   "outputs": [],
   "source": [
    "def extract_attribute(file, attribute):\n",
    "    \n",
    "    if attribute in file:\n",
    "            return attribute\n",
    "\n",
    "def extract_method(string):\n",
    "    for method in [\"PCA\", \"Isomap\", \"SpectralEmbedding\", \"TSNE\"]:\n",
    "        if method in string:\n",
    "                return method"
   ]
  },
  {
   "cell_type": "code",
   "execution_count": 5,
   "id": "af88f42f",
   "metadata": {},
   "outputs": [],
   "source": [
    "# paths \n",
    "attribute = \"Wearing_Hat\"\n",
    "\n",
    "celebA_csv = \"../data/celeba/list_attr_celeba.csv\"\n",
    "uniform_csv = \"../data/celeba/experiment1_uniform_sample.csv\"\n",
    "\n",
    "biased_csvs = [\"../data/celeba/experiment1_biased_sample_{}_{}.csv\".format(attribute, n) for n in [10,30,60,90]]\n",
    "dataframes = [pd.read_csv(biased_csvs[i]) for i in range(4)]\n"
   ]
  },
  {
   "cell_type": "code",
   "execution_count": 6,
   "id": "ef344d9c",
   "metadata": {},
   "outputs": [],
   "source": [
    "unif_df = pd.read_csv(uniform_csv)"
   ]
  },
  {
   "cell_type": "code",
   "execution_count": 7,
   "id": "617c88f9",
   "metadata": {},
   "outputs": [
    {
     "data": {
      "text/html": [
       "<div>\n",
       "<style scoped>\n",
       "    .dataframe tbody tr th:only-of-type {\n",
       "        vertical-align: middle;\n",
       "    }\n",
       "\n",
       "    .dataframe tbody tr th {\n",
       "        vertical-align: top;\n",
       "    }\n",
       "\n",
       "    .dataframe thead th {\n",
       "        text-align: right;\n",
       "    }\n",
       "</style>\n",
       "<table border=\"1\" class=\"dataframe\">\n",
       "  <thead>\n",
       "    <tr style=\"text-align: right;\">\n",
       "      <th></th>\n",
       "      <th>X</th>\n",
       "      <th>Y</th>\n",
       "      <th>features</th>\n",
       "      <th>wasserstein</th>\n",
       "      <th>bias</th>\n",
       "      <th>method</th>\n",
       "      <th>dimension</th>\n",
       "    </tr>\n",
       "  </thead>\n",
       "  <tbody>\n",
       "    <tr>\n",
       "      <th>0</th>\n",
       "      <td>../data/celeba/experiment1_biased_sample_Weari...</td>\n",
       "      <td>../data/celeba/experiment1_uniform_sample.csv</td>\n",
       "      <td>Wearing_Hat_10_red_TSNE_3</td>\n",
       "      <td>1.791002</td>\n",
       "      <td>10</td>\n",
       "      <td>TSNE</td>\n",
       "      <td>3</td>\n",
       "    </tr>\n",
       "    <tr>\n",
       "      <th>1</th>\n",
       "      <td>../data/celeba/experiment1_biased_sample_Weari...</td>\n",
       "      <td>../data/celeba/experiment1_uniform_sample.csv</td>\n",
       "      <td>Wearing_Hat_30_red_TSNE_3</td>\n",
       "      <td>32.031707</td>\n",
       "      <td>30</td>\n",
       "      <td>TSNE</td>\n",
       "      <td>3</td>\n",
       "    </tr>\n",
       "    <tr>\n",
       "      <th>2</th>\n",
       "      <td>../data/celeba/experiment1_biased_sample_Weari...</td>\n",
       "      <td>../data/celeba/experiment1_uniform_sample.csv</td>\n",
       "      <td>Wearing_Hat_60_red_TSNE_3</td>\n",
       "      <td>131.591411</td>\n",
       "      <td>60</td>\n",
       "      <td>TSNE</td>\n",
       "      <td>3</td>\n",
       "    </tr>\n",
       "    <tr>\n",
       "      <th>3</th>\n",
       "      <td>../data/celeba/experiment1_biased_sample_Weari...</td>\n",
       "      <td>../data/celeba/experiment1_uniform_sample.csv</td>\n",
       "      <td>Wearing_Hat_90_red_TSNE_3</td>\n",
       "      <td>250.731857</td>\n",
       "      <td>90</td>\n",
       "      <td>TSNE</td>\n",
       "      <td>3</td>\n",
       "    </tr>\n",
       "    <tr>\n",
       "      <th>4</th>\n",
       "      <td>../data/celeba/experiment1_biased_sample_Weari...</td>\n",
       "      <td>../data/celeba/experiment1_uniform_sample.csv</td>\n",
       "      <td>Wearing_Hat_10_red_PCA_3</td>\n",
       "      <td>0.067192</td>\n",
       "      <td>10</td>\n",
       "      <td>PCA</td>\n",
       "      <td>3</td>\n",
       "    </tr>\n",
       "  </tbody>\n",
       "</table>\n",
       "</div>"
      ],
      "text/plain": [
       "                                                   X  \\\n",
       "0  ../data/celeba/experiment1_biased_sample_Weari...   \n",
       "1  ../data/celeba/experiment1_biased_sample_Weari...   \n",
       "2  ../data/celeba/experiment1_biased_sample_Weari...   \n",
       "3  ../data/celeba/experiment1_biased_sample_Weari...   \n",
       "4  ../data/celeba/experiment1_biased_sample_Weari...   \n",
       "\n",
       "                                               Y                   features  \\\n",
       "0  ../data/celeba/experiment1_uniform_sample.csv  Wearing_Hat_10_red_TSNE_3   \n",
       "1  ../data/celeba/experiment1_uniform_sample.csv  Wearing_Hat_30_red_TSNE_3   \n",
       "2  ../data/celeba/experiment1_uniform_sample.csv  Wearing_Hat_60_red_TSNE_3   \n",
       "3  ../data/celeba/experiment1_uniform_sample.csv  Wearing_Hat_90_red_TSNE_3   \n",
       "4  ../data/celeba/experiment1_uniform_sample.csv   Wearing_Hat_10_red_PCA_3   \n",
       "\n",
       "   wasserstein bias method  dimension  \n",
       "0     1.791002   10   TSNE          3  \n",
       "1    32.031707   30   TSNE          3  \n",
       "2   131.591411   60   TSNE          3  \n",
       "3   250.731857   90   TSNE          3  \n",
       "4     0.067192   10    PCA          3  "
      ]
     },
     "execution_count": 7,
     "metadata": {},
     "output_type": "execute_result"
    }
   ],
   "source": [
    "wasserstein_df = pd.read_csv(\"../results/Experiment4/wasserstein_2.tsv\", sep= \"\\t\", header=None)\n",
    "wasserstein_df.columns = [\"X\", \"Y\", \"features\", \"wasserstein\"]\n",
    "\n",
    "wasserstein_df[\"bias\"] = wasserstein_df[\"features\"].apply(lambda x: x.split(\"_\")[2])\n",
    "wasserstein_df[\"method\"] = wasserstein_df[\"features\"].apply(lambda x: extract_method(x))\n",
    "wasserstein_df[\"dimension\"] = wasserstein_df[\"features\"].apply(lambda x: int(x.split(\"_\")[-1]))\n",
    "    \n",
    "wasserstein_df.head()"
   ]
  },
  {
   "cell_type": "code",
   "execution_count": 8,
   "id": "bcd8a33b",
   "metadata": {},
   "outputs": [],
   "source": [
    "wasserstein = dict()\n",
    "for method in [\"PCA\", \"Isomap\", \"SpectralEmbedding\"]:\n",
    "    for i in [3, 50, 150]:\n",
    "        wasserstein[method + \" \" + str(i)] = list(wasserstein_df[(wasserstein_df[\"method\"]== method) & (wasserstein_df[\"dimension\"] == i)].wasserstein)\n",
    "        \n",
    "wasserstein[\"TSNE 3\"] = list(wasserstein_df[(wasserstein_df[\"method\"]== \"TSNE\") & (wasserstein_df[\"dimension\"] == 3)].wasserstein)"
   ]
  },
  {
   "cell_type": "code",
   "execution_count": 9,
   "id": "8c678746",
   "metadata": {},
   "outputs": [],
   "source": [
    "non_reduced = [2.8940860341390007,\n",
    "7.7852453672621,\n",
    "18.81794062889947,\n",
    "34.12733239661323]"
   ]
  },
  {
   "cell_type": "code",
   "execution_count": 10,
   "id": "93c5399e",
   "metadata": {},
   "outputs": [
    {
     "data": {
      "image/png": "[encoded data removed]",
      "text/plain": [
       "<Figure size 640x480 with 1 Axes>"
      ]
     },
     "metadata": {},
     "output_type": "display_data"
    }
   ],
   "source": [
    "for i, item in enumerate(wasserstein.items()):\n",
    "\n",
    "    attr, scores = item\n",
    "    #c = [\"tab:blue\", \"tab:orange\", \"tab:green\", \"tab:red\"][i]\n",
    "    plt.plot([10,30,60,90], scores, \"-o\")\n",
    "\n",
    "plt.plot([10,30,60,90], non_reduced, \"-o\")\n",
    "\n",
    "plt.title(\"\")\n",
    "plt.xlabel(\"Percentage of images with a specific attribute in the biased sample\")\n",
    "plt.ylabel(\"Quadratic Wasserstein distance\")\n",
    "plt.legend(list(wasserstein.keys()) + [\"Not reduced\"], title=\"Attributes\")\n",
    "plt.grid()\n",
    "\n",
    "plt.tight_layout()\n",
    "plt.savefig(\"../results/Experiment4/Wasserstein_distance_red_plot.png\")\n",
    "plt.show()"
   ]
  },
  {
   "cell_type": "code",
   "execution_count": 11,
   "id": "20ecdb68",
   "metadata": {},
   "outputs": [],
   "source": [
    "wasserstein[\"Not reduced\"] = non_reduced"
   ]
  },
  {
   "cell_type": "code",
   "execution_count": 12,
   "id": "f6c8f944",
   "metadata": {},
   "outputs": [
    {
     "name": "stdout",
     "output_type": "stream",
     "text": [
      "\\begin{tabular}{lrrrr}\n",
      "\\toprule\n",
      "{} &          0 &           1 &           2 &           3 \\\\\n",
      "\\midrule\n",
      "PCA 3                 &   0.067192 &    2.244085 &    8.614960 &   18.378147 \\\\\n",
      "PCA 50                &   0.650666 &    4.039413 &   13.508625 &   27.048151 \\\\\n",
      "PCA 150               &   2.195677 &    6.000884 &   16.550436 &   31.129031 \\\\\n",
      "Isomap 3              &   2.255729 &   47.547267 &  169.606831 &  349.713001 \\\\\n",
      "Isomap 50             &   6.269205 &   86.103695 &  299.817519 &  603.284902 \\\\\n",
      "Isomap 150            &  32.743821 &  138.202455 &  403.700374 &  779.032974 \\\\\n",
      "SpectralEmbedding 3   &   1.191908 &    1.197371 &    1.187211 &    1.210802 \\\\\n",
      "SpectralEmbedding 50  &   0.029279 &    0.029265 &    0.029258 &    0.029240 \\\\\n",
      "SpectralEmbedding 150 &   0.080357 &    0.080329 &    0.080296 &    0.080257 \\\\\n",
      "TSNE 3                &   1.791002 &   32.031707 &  131.591411 &  250.731857 \\\\\n",
      "Not reduced           &   2.894086 &    7.785245 &   18.817941 &   34.127332 \\\\\n",
      "\\bottomrule\n",
      "\\end{tabular}\n",
      "\n"
     ]
    },
    {
     "name": "stderr",
     "output_type": "stream",
     "text": [
      "/var/folders/8p/14dt3sw51h52d_5d395588zh0000gn/T/ipykernel_1190/3419837502.py:3: FutureWarning: In future versions `DataFrame.to_latex` is expected to utilise the base implementation of `Styler.to_latex` for formatting and rendering. The arguments signature may therefore change. It is recommended instead to use `DataFrame.style.to_latex` which also contains additional functionality.\n",
      "  print(w_df.transpose().to_latex())\n"
     ]
    }
   ],
   "source": [
    "w_df = pd.DataFrame(wasserstein)\n",
    "\n",
    "print(w_df.transpose().to_latex())"
   ]
  },
  {
   "cell_type": "code",
   "execution_count": 13,
   "id": "78aec653",
   "metadata": {},
   "outputs": [
    {
     "data": {
      "text/plain": [
       "Index(['Unnamed: 0', 'image_id', '5_o_Clock_Shadow', 'Arched_Eyebrows',\n",
       "       'Attractive', 'Bags_Under_Eyes', 'Bald', 'Bangs', 'Big_Lips',\n",
       "       'Big_Nose', 'Black_Hair', 'Blond_Hair', 'Blurry', 'Brown_Hair',\n",
       "       'Bushy_Eyebrows', 'Chubby', 'Double_Chin', 'Eyeglasses', 'Goatee',\n",
       "       'Gray_Hair', 'Heavy_Makeup', 'High_Cheekbones', 'Male',\n",
       "       'Mouth_Slightly_Open', 'Mustache', 'Narrow_Eyes', 'No_Beard',\n",
       "       'Oval_Face', 'Pale_Skin', 'Pointy_Nose', 'Receding_Hairline',\n",
       "       'Rosy_Cheeks', 'Sideburns', 'Smiling', 'Straight_Hair', 'Wavy_Hair',\n",
       "       'Wearing_Earrings', 'Wearing_Hat', 'Wearing_Lipstick',\n",
       "       'Wearing_Necklace', 'Wearing_Necktie', 'Young', 'Kantorovich_potential',\n",
       "       'resnet18_reduced_PCA_Kantorovich_potential',\n",
       "       'resnet18_reduced_TSNE_Kantorovich_potential',\n",
       "       'resnet18_reduced_PCA25_Kantorovich_potential',\n",
       "       'resnet18_reduced_PCA50_Kantorovich_potential',\n",
       "       'resnet18_reduced_PCA100_Kantorovich_potential',\n",
       "       'resnet18_reduced_PCA250_Kantorovich_potential',\n",
       "       'Wearing_Hat_reduced_10_PCA3_Kantorovich_potential',\n",
       "       'Wearing_Hat_reduced_10_PCA25_Kantorovich_potential',\n",
       "       'Wearing_Hat_reduced_10_PCA100_Kantorovich_potential',\n",
       "       'Wearing_Hat_reduced_10_PCA250_Kantorovich_potential',\n",
       "       'Wearing_Hat_10_red_PCA_3_Kantorovich_potential',\n",
       "       'Wearing_Hat_10_red_PCA_50_Kantorovich_potential',\n",
       "       'Wearing_Hat_10_red_PCA_150_Kantorovich_potential',\n",
       "       'Wearing_Hat_10_red_Isomap_3_Kantorovich_potential',\n",
       "       'Wearing_Hat_10_red_Isomap_50_Kantorovich_potential',\n",
       "       'Wearing_Hat_10_red_Isomap_150_Kantorovich_potential',\n",
       "       'Wearing_Hat_10_red_SpectralEmbedding_3_Kantorovich_potential',\n",
       "       'Wearing_Hat_10_red_SpectralEmbedding_50_Kantorovich_potential',\n",
       "       'Wearing_Hat_10_red_SpectralEmbedding_150_Kantorovich_potential',\n",
       "       'Wearing_Hat_10_red_TSNE_3_Kantorovich_potential',\n",
       "       'resnet18_/2023-02-01/09-34-29/_KP',\n",
       "       'Wearing_Hat_10_red_TSNE_3_2023-02-04_KP',\n",
       "       'Wearing_Hat_10_red_PCA_3_2023-02-04_KP',\n",
       "       'Wearing_Hat_10_red_PCA_50_2023-02-04_KP',\n",
       "       'Wearing_Hat_10_red_PCA_150_2023-02-04_KP',\n",
       "       'Wearing_Hat_10_red_Isomap_3_2023-02-05_KP',\n",
       "       'Wearing_Hat_10_red_Isomap_50_2023-02-05_KP',\n",
       "       'Wearing_Hat_10_red_Isomap_150_2023-02-05_KP',\n",
       "       'Wearing_Hat_10_red_SpectralEmbedding_3_2023-02-05_KP',\n",
       "       'Wearing_Hat_10_red_SpectralEmbedding_50_2023-02-05_KP',\n",
       "       'Wearing_Hat_10_red_SpectralEmbedding_150_2023-02-05_KP'],\n",
       "      dtype='object')"
      ]
     },
     "execution_count": 13,
     "metadata": {},
     "output_type": "execute_result"
    }
   ],
   "source": [
    "dataframes[0].columns"
   ]
  },
  {
   "cell_type": "code",
   "execution_count": 14,
   "id": "d0e5a5a3",
   "metadata": {},
   "outputs": [],
   "source": [
    "def fun(string):\n",
    "    if len(string.split(\"/\")) > 2:\n",
    "        return \"Potential\"\n",
    "    else:\n",
    "        return string"
   ]
  },
  {
   "cell_type": "code",
   "execution_count": 17,
   "id": "bf27e7de",
   "metadata": {},
   "outputs": [],
   "source": [
    "corr = dict()\n",
    "\n",
    "for i, n in enumerate([10, 30, 60, 90]):\n",
    "    df = dataframes[i].rename(mapper=fun, axis=1)\n",
    "    original = df[\"Potential\"]\n",
    "    corr[\"Wearing_Hat_{}\".format(n)] = dict()\n",
    "    for method in [\"PCA\", \"Isomap\", \"SpectralEmbedding\"]:\n",
    "        for dimension in [3, 50 ,150]:\n",
    "            if \"Wearing_Hat_{}_red_{}_{}_2023-02-04_KP\".format(n, method, dimension) in df.columns:\n",
    "                col = \"Wearing_Hat_{}_red_{}_{}_2023-02-04_KP\".format(n, method, dimension)\n",
    "            elif \"Wearing_Hat_{}_red_{}_{}_2023-02-05_KP\".format(n, method, dimension) in df.columns:\n",
    "                col = \"Wearing_Hat_{}_red_{}_{}_2023-02-05_KP\".format(n, method, dimension)\n",
    "            new = df[col]\n",
    "            corr[\"Wearing_Hat_{}\".format(n)][\" \".join(col.split(\"_\")[-4:-2])] = scipy.stats.spearmanr(new, original)\n",
    "            \n",
    "    col_tsne = \"Wearing_Hat_{}_red_TSNE_3_2023-02-04_KP\".format(n)\n",
    "    new = df[col_tsne]\n",
    "    corr[\"Wearing_Hat_{}\".format(n)][\" \".join(col_tsne.split(\"_\")[-4:-2])] = scipy.stats.spearmanr(new, original)"
   ]
  },
  {
   "cell_type": "code",
   "execution_count": 18,
   "id": "df0c0800",
   "metadata": {},
   "outputs": [
    {
     "name": "stdout",
     "output_type": "stream",
     "text": [
      "\\begin{tabular}{lrr}\n",
      "\\toprule\n",
      "{} &  Spearman r &        p-value \\\\\n",
      "\\midrule\n",
      "PCA 3                 &    0.534634 &   0.000000e+00 \\\\\n",
      "PCA 50                &    0.559124 &   0.000000e+00 \\\\\n",
      "PCA 150               &    0.615205 &   0.000000e+00 \\\\\n",
      "Isomap 3              &    0.370849 &  1.863476e-291 \\\\\n",
      "Isomap 50             &    0.354889 &  2.262858e-265 \\\\\n",
      "Isomap 150            &    0.407618 &   0.000000e+00 \\\\\n",
      "SpectralEmbedding 3   &   -0.139072 &   4.155244e-40 \\\\\n",
      "SpectralEmbedding 50  &   -0.403923 &   0.000000e+00 \\\\\n",
      "SpectralEmbedding 150 &   -0.477733 &   0.000000e+00 \\\\\n",
      "TSNE 3                &    0.330672 &  1.412564e-228 \\\\\n",
      "\\bottomrule\n",
      "\\end{tabular}\n",
      "\n",
      "\\begin{tabular}{lrr}\n",
      "\\toprule\n",
      "{} &  Spearman r &  p-value \\\\\n",
      "\\midrule\n",
      "PCA 3                 &    0.958580 &      0.0 \\\\\n",
      "PCA 50                &    0.973337 &      0.0 \\\\\n",
      "PCA 150               &    0.967237 &      0.0 \\\\\n",
      "Isomap 3              &    0.847387 &      0.0 \\\\\n",
      "Isomap 50             &    0.889826 &      0.0 \\\\\n",
      "Isomap 150            &    0.909115 &      0.0 \\\\\n",
      "SpectralEmbedding 3   &   -0.403965 &      0.0 \\\\\n",
      "SpectralEmbedding 50  &   -0.401677 &      0.0 \\\\\n",
      "SpectralEmbedding 150 &   -0.476195 &      0.0 \\\\\n",
      "TSNE 3                &    0.852969 &      0.0 \\\\\n",
      "\\bottomrule\n",
      "\\end{tabular}\n",
      "\n",
      "\\begin{tabular}{lrr}\n",
      "\\toprule\n",
      "{} &  Spearman r &  p-value \\\\\n",
      "\\midrule\n",
      "PCA 3                 &    0.966236 &      0.0 \\\\\n",
      "PCA 50                &    0.989281 &      0.0 \\\\\n",
      "PCA 150               &    0.994017 &      0.0 \\\\\n",
      "Isomap 3              &    0.887281 &      0.0 \\\\\n",
      "Isomap 50             &    0.921053 &      0.0 \\\\\n",
      "Isomap 150            &    0.939486 &      0.0 \\\\\n",
      "SpectralEmbedding 3   &    0.678587 &      0.0 \\\\\n",
      "SpectralEmbedding 50  &   -0.389719 &      0.0 \\\\\n",
      "SpectralEmbedding 150 &   -0.388621 &      0.0 \\\\\n",
      "TSNE 3                &    0.868958 &      0.0 \\\\\n",
      "\\bottomrule\n",
      "\\end{tabular}\n",
      "\n",
      "\\begin{tabular}{lrr}\n",
      "\\toprule\n",
      "{} &  Spearman r &        p-value \\\\\n",
      "\\midrule\n",
      "PCA 3                 &    0.929749 &   0.000000e+00 \\\\\n",
      "PCA 50                &    0.983727 &   0.000000e+00 \\\\\n",
      "PCA 150               &    0.992595 &   0.000000e+00 \\\\\n",
      "Isomap 3              &    0.806772 &   0.000000e+00 \\\\\n",
      "Isomap 50             &    0.851940 &   0.000000e+00 \\\\\n",
      "Isomap 150            &    0.878486 &   0.000000e+00 \\\\\n",
      "SpectralEmbedding 3   &    0.242867 &  5.634891e-121 \\\\\n",
      "SpectralEmbedding 50  &   -0.376162 &  1.784979e-300 \\\\\n",
      "SpectralEmbedding 150 &   -0.309614 &  3.438718e-199 \\\\\n",
      "TSNE 3                &    0.733208 &   0.000000e+00 \\\\\n",
      "\\bottomrule\n",
      "\\end{tabular}\n",
      "\n"
     ]
    },
    {
     "name": "stderr",
     "output_type": "stream",
     "text": [
      "/var/folders/8p/14dt3sw51h52d_5d395588zh0000gn/T/ipykernel_1190/170903137.py:7: FutureWarning: In future versions `DataFrame.to_latex` is expected to utilise the base implementation of `Styler.to_latex` for formatting and rendering. The arguments signature may therefore change. It is recommended instead to use `DataFrame.style.to_latex` which also contains additional functionality.\n",
      "  print(c_df.to_latex())\n",
      "/var/folders/8p/14dt3sw51h52d_5d395588zh0000gn/T/ipykernel_1190/170903137.py:7: FutureWarning: In future versions `DataFrame.to_latex` is expected to utilise the base implementation of `Styler.to_latex` for formatting and rendering. The arguments signature may therefore change. It is recommended instead to use `DataFrame.style.to_latex` which also contains additional functionality.\n",
      "  print(c_df.to_latex())\n",
      "/var/folders/8p/14dt3sw51h52d_5d395588zh0000gn/T/ipykernel_1190/170903137.py:7: FutureWarning: In future versions `DataFrame.to_latex` is expected to utilise the base implementation of `Styler.to_latex` for formatting and rendering. The arguments signature may therefore change. It is recommended instead to use `DataFrame.style.to_latex` which also contains additional functionality.\n",
      "  print(c_df.to_latex())\n",
      "/var/folders/8p/14dt3sw51h52d_5d395588zh0000gn/T/ipykernel_1190/170903137.py:7: FutureWarning: In future versions `DataFrame.to_latex` is expected to utilise the base implementation of `Styler.to_latex` for formatting and rendering. The arguments signature may therefore change. It is recommended instead to use `DataFrame.style.to_latex` which also contains additional functionality.\n",
      "  print(c_df.to_latex())\n"
     ]
    }
   ],
   "source": [
    "for title, el in corr.items():\n",
    "    c_df = pd.DataFrame(el)\n",
    "    c_df = c_df.transpose()\n",
    "    \n",
    "    c_df.columns = [\"Spearman r\", \"p-value\"]\n",
    "    \n",
    "    print(c_df.to_latex())"
   ]
  },
  {
   "cell_type": "code",
   "execution_count": null,
   "id": "b2af0fa8",
   "metadata": {},
   "outputs": [],
   "source": []
  },
  {
   "cell_type": "code",
   "execution_count": null,
   "id": "fc8a6f17",
   "metadata": {},
   "outputs": [],
   "source": []
  },
  {
   "cell_type": "code",
   "execution_count": null,
   "id": "cc1e081b",
   "metadata": {},
   "outputs": [],
   "source": []
  },
  {
   "cell_type": "code",
   "execution_count": null,
   "id": "5240ccde",
   "metadata": {},
   "outputs": [],
   "source": []
  },
  {
   "cell_type": "code",
   "execution_count": null,
   "id": "4eb29d34",
   "metadata": {},
   "outputs": [],
   "source": []
  },
  {
   "cell_type": "code",
   "execution_count": null,
   "id": "76b85436",
   "metadata": {},
   "outputs": [],
   "source": []
  },
  {
   "cell_type": "code",
   "execution_count": null,
   "id": "0f666ac2",
   "metadata": {},
   "outputs": [],
   "source": []
  }
 ],
 "metadata": {
  "kernelspec": {
   "display_name": "Python 3 (ipykernel)",
   "language": "python",
   "name": "python3"
  },
  "language_info": {
   "codemirror_mode": {
    "name": "ipython",
    "version": 3
   },
   "file_extension": ".py",
   "mimetype": "text/x-python",
   "name": "python",
   "nbconvert_exporter": "python",
   "pygments_lexer": "ipython3",
   "version": "3.9.13"
  }
 },
 "nbformat": 4,
 "nbformat_minor": 5
}
