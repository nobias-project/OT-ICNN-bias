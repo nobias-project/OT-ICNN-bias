{
 "cells": [
  {
   "cell_type": "code",
   "execution_count": null,
   "id": "eedbb881",
   "metadata": {},
   "outputs": [],
   "source": [
    "import numpy as np\n",
    "import pandas as pd\n",
    "import seaborn as sns\n",
    "import random \n",
    "import json\n",
    "\n",
    "from matplotlib import pyplot as plt\n",
    "from scipy.stats import ks_2samp\n",
    "\n",
    "from src.utils import set_random_seeds"
   ]
  },
  {
   "cell_type": "code",
   "execution_count": null,
   "id": "5792335b",
   "metadata": {},
   "outputs": [],
   "source": [
    "%matplotlib inline"
   ]
  },
  {
   "cell_type": "code",
   "execution_count": null,
   "id": "79f93cec",
   "metadata": {},
   "outputs": [],
   "source": [
    "set_random_seeds(65)"
   ]
  },
  {
   "cell_type": "code",
   "execution_count": null,
   "id": "22092b13",
   "metadata": {},
   "outputs": [],
   "source": []
  }
 ],
 "metadata": {
  "kernelspec": {
   "display_name": "Python 3 (ipykernel)",
   "language": "python",
   "name": "python3"
  },
  "language_info": {
   "codemirror_mode": {
    "name": "ipython",
    "version": 3
   },
   "file_extension": ".py",
   "mimetype": "text/x-python",
   "name": "python",
   "nbconvert_exporter": "python",
   "pygments_lexer": "ipython3",
   "version": "3.9.13"
  }
 },
 "nbformat": 4,
 "nbformat_minor": 5
}
